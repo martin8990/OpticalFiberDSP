{
 "cells": [
  {
   "cell_type": "code",
   "execution_count": 9,
   "metadata": {},
   "outputs": [],
   "source": [
    "import numpy as np\n",
    "from enum import Enum\n",
    "import examples.settings as set\n",
    "\n",
    "class PhaseRecoverySettings():\n",
    "   type = set.PhaseRec.INTERNAL\n",
    "   lbp = 10\n",
    "   num_testangles = 40\n",
    "\n",
    "\n",
    "class UpdateSettings():\n",
    "    mu = 4e-4\n",
    "    error_calculators = [ECalc.LMS,ECalc.LMS]\n",
    "    num_trainingsyms = 30000\n",
    "    update_type = set.MimoUpdaterType.FREQUENCYDOMAIN\n",
    "\n",
    "class MimoSettings():\n",
    "    ovsmpl = 2\n",
    "    widely_linear = True\n",
    "    lb = 400\n",
    "\n"
   ]
  },
  {
   "cell_type": "code",
   "execution_count": 8,
   "metadata": {},
   "outputs": [
    {
     "ename": "AttributeError",
     "evalue": "type object 'set' has no attribute 'PhaseRec'",
     "output_type": "error",
     "traceback": [
      "\u001b[1;31m---------------------------------------------------------------------------\u001b[0m",
      "\u001b[1;31mAttributeError\u001b[0m                            Traceback (most recent call last)",
      "\u001b[1;32m<ipython-input-8-8963df685ef0>\u001b[0m in \u001b[0;36m<module>\u001b[1;34m()\u001b[0m\n\u001b[0;32m      4\u001b[0m \u001b[1;33m\u001b[0m\u001b[0m\n\u001b[0;32m      5\u001b[0m \u001b[0mlbp\u001b[0m \u001b[1;33m=\u001b[0m \u001b[0mpr_set\u001b[0m\u001b[1;33m.\u001b[0m\u001b[0mlbp\u001b[0m\u001b[1;33m\u001b[0m\u001b[0m\n\u001b[1;32m----> 6\u001b[1;33m \u001b[1;32mif\u001b[0m \u001b[0mpr_set\u001b[0m\u001b[1;33m.\u001b[0m\u001b[0mtype\u001b[0m \u001b[1;33m==\u001b[0m \u001b[0mset\u001b[0m\u001b[1;33m.\u001b[0m\u001b[0mPhaseRec\u001b[0m\u001b[1;33m.\u001b[0m\u001b[0mNONE\u001b[0m\u001b[1;33m:\u001b[0m\u001b[1;33m\u001b[0m\u001b[0m\n\u001b[0m\u001b[0;32m      7\u001b[0m     \u001b[0mlbp\u001b[0m \u001b[1;33m=\u001b[0m \u001b[1;36m0\u001b[0m\u001b[1;33m\u001b[0m\u001b[0m\n\u001b[0;32m      8\u001b[0m \u001b[0movsmpl\u001b[0m \u001b[1;33m=\u001b[0m \u001b[0mmimo_set\u001b[0m\u001b[1;33m.\u001b[0m\u001b[0movsmpl\u001b[0m\u001b[1;33m\u001b[0m\u001b[0m\n",
      "\u001b[1;31mAttributeError\u001b[0m: type object 'set' has no attribute 'PhaseRec'"
     ]
    }
   ],
   "source": [
    "pr_set = PhaseRecoverySettings()\n",
    "mimo_set = MimoSettings()\n",
    "u_set = UpdateSettings()\n",
    "\n",
    "lbp = pr_set.lbp\n",
    "if pr_set.type == set.PhaseRec.NONE:\n",
    "    lbp = 0\n",
    "ovsmpl = mimo_set.ovsmpl\n",
    "\n",
    "nmodes = sig.shape[0]\n",
    "N = sequence.shape[1]\n",
    "ovconj = 1\n",
    "lb = mimo_set.lb\n",
    "mu = u_set.mu\n",
    "ntraining_syms = u_set.num_trainingsyms\n",
    "if mimo_set.widely_linear:\n",
    "    ovconj = 2\n"
   ]
  },
  {
   "cell_type": "code",
   "execution_count": null,
   "metadata": {},
   "outputs": [],
   "source": []
  },
  {
   "cell_type": "code",
   "execution_count": null,
   "metadata": {},
   "outputs": [],
   "source": []
  },
  {
   "cell_type": "code",
   "execution_count": null,
   "metadata": {},
   "outputs": [],
   "source": []
  }
 ],
 "metadata": {
  "kernelspec": {
   "display_name": "Python 3",
   "language": "python",
   "name": "python3"
  },
  "language_info": {
   "codemirror_mode": {
    "name": "ipython",
    "version": 3
   },
   "file_extension": ".py",
   "mimetype": "text/x-python",
   "name": "python",
   "nbconvert_exporter": "python",
   "pygments_lexer": "ipython3",
   "version": "3.6.4"
  }
 },
 "nbformat": 4,
 "nbformat_minor": 2
}
