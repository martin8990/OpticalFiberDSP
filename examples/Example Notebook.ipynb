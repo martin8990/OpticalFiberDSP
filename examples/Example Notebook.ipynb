{
 "cells": [
  {
   "cell_type": "code",
   "execution_count": 1,
   "metadata": {},
   "outputs": [
    {
     "ename": "ModuleNotFoundError",
     "evalue": "No module named 'mimo'",
     "output_type": "error",
     "traceback": [
      "\u001b[1;31m---------------------------------------------------------------------------\u001b[0m",
      "\u001b[1;31mModuleNotFoundError\u001b[0m                       Traceback (most recent call last)",
      "\u001b[1;32m<ipython-input-1-bd363d40bb97>\u001b[0m in \u001b[0;36m<module>\u001b[1;34m()\u001b[0m\n\u001b[0;32m      1\u001b[0m \u001b[1;32mimport\u001b[0m \u001b[0mnumpy\u001b[0m \u001b[1;32mas\u001b[0m \u001b[0mnp\u001b[0m\u001b[1;33m\u001b[0m\u001b[0m\n\u001b[1;32m----> 2\u001b[1;33m \u001b[1;32mimport\u001b[0m \u001b[0mmimo\u001b[0m\u001b[1;33m.\u001b[0m\u001b[0mmimo\u001b[0m \u001b[1;32mas\u001b[0m \u001b[0mmimo\u001b[0m\u001b[1;33m\u001b[0m\u001b[0m\n\u001b[0m\u001b[0;32m      3\u001b[0m \u001b[1;32mimport\u001b[0m \u001b[0mmimo\u001b[0m\u001b[1;33m.\u001b[0m\u001b[0mphaserecovery\u001b[0m \u001b[1;32mas\u001b[0m \u001b[0mphaserec\u001b[0m\u001b[1;33m\u001b[0m\u001b[0m\n\u001b[0;32m      4\u001b[0m \u001b[1;32mimport\u001b[0m \u001b[0mpyqt_mimo\u001b[0m\u001b[1;33m.\u001b[0m\u001b[0mmimoplot\u001b[0m \u001b[1;32mas\u001b[0m \u001b[0mbmp\u001b[0m\u001b[1;33m\u001b[0m\u001b[0m\n\u001b[0;32m      5\u001b[0m \u001b[1;32mimport\u001b[0m \u001b[0mutility\u001b[0m\u001b[1;33m.\u001b[0m\u001b[0mevaluation\u001b[0m \u001b[1;32mas\u001b[0m \u001b[0meval\u001b[0m\u001b[1;33m\u001b[0m\u001b[0m\n",
      "\u001b[1;31mModuleNotFoundError\u001b[0m: No module named 'mimo'"
     ]
    }
   ],
   "source": [
    "import numpy as np\n",
    "import mimo.mimo as mimo\n",
    "import mimo.phaserecovery as phaserec\n",
    "import pyqt_mimo.mimoplot as bmp\n",
    "import utility.evaluation as eval\n",
    "\n",
    "\n",
    "class MimoUpdaterType(Enum):\n",
    "    FREQUENCYDOMAIN = 1\n",
    "    TIMEDOMAIN = 2\n",
    "\n",
    "class PhaseRec(Enum):\n",
    "    INTERNAL = 1\n",
    "    EXTERNAL = 2\n",
    "    NONE = 3\n",
    "\n",
    "class ECalc(Enum):\n",
    "    LMS = 1\n",
    "    SBD = 2\n",
    "    MRD = 3\n",
    "    CMA = 4\n",
    "\n",
    "\n",
    "class PhaseRecoverySettings():\n",
    "   type = PhaseRec.INTERNAL\n",
    "   lbp = 10\n",
    "   num_testangles = 40\n",
    "\n",
    "\n",
    "class UpdateSettings():\n",
    "    mu = 4e-4\n",
    "    error_calculators = [ECalc.LMS,ECalc.LMS]\n",
    "    num_trainingsyms = 30000\n",
    "    update_type = MimoUpdaterType.FREQUENCYDOMAIN\n",
    "\n",
    "class MimoSettings():\n",
    "    ovsmpl = 2\n",
    "    widely_linear = True\n",
    "    lb = 400\n",
    "    \n",
    "\n"
   ]
  },
  {
   "cell_type": "code",
   "execution_count": null,
   "metadata": {},
   "outputs": [],
   "source": []
  }
 ],
 "metadata": {
  "kernelspec": {
   "display_name": "Python 3",
   "language": "python",
   "name": "python3"
  },
  "language_info": {
   "codemirror_mode": {
    "name": "ipython",
    "version": 3
   },
   "file_extension": ".py",
   "mimetype": "text/x-python",
   "name": "python",
   "nbconvert_exporter": "python",
   "pygments_lexer": "ipython3",
   "version": "3.6.4"
  }
 },
 "nbformat": 4,
 "nbformat_minor": 2
}
